{
 "cells": [
  {
   "cell_type": "code",
   "execution_count": 1,
   "id": "7afe7687-bba4-42c6-836b-0ec5e50f00b2",
   "metadata": {
    "execution": {
     "iopub.execute_input": "2024-10-18T06:59:42.008832Z",
     "iopub.status.busy": "2024-10-18T06:59:42.008463Z",
     "iopub.status.idle": "2024-10-18T06:59:42.250328Z",
     "shell.execute_reply": "2024-10-18T06:59:42.249664Z",
     "shell.execute_reply.started": "2024-10-18T06:59:42.008811Z"
    },
    "tags": []
   },
   "outputs": [
    {
     "data": {
      "application/vnd.jupyter.widget-view+json": {
       "model_id": "309c0e7df60847a6acb26c24e034d33a",
       "version_major": 2,
       "version_minor": 0
      },
      "text/plain": [
       "VBox(children=(HTML(value='<center> <img\\nsrc=https://huggingface.co/front/assets/huggingface_logo-noborder.sv…"
      ]
     },
     "metadata": {},
     "output_type": "display_data"
    }
   ],
   "source": [
    "from huggingface_hub import notebook_login\n",
    "notebook_login()"
   ]
  },
  {
   "cell_type": "code",
   "execution_count": 2,
   "id": "4372adf4-58d2-4998-b980-5731c67cc82b",
   "metadata": {
    "execution": {
     "iopub.execute_input": "2024-10-18T06:59:53.983290Z",
     "iopub.status.busy": "2024-10-18T06:59:53.982584Z",
     "iopub.status.idle": "2024-10-18T07:00:06.469001Z",
     "shell.execute_reply": "2024-10-18T07:00:06.467976Z",
     "shell.execute_reply.started": "2024-10-18T06:59:53.983267Z"
    },
    "tags": []
   },
   "outputs": [
    {
     "name": "stdout",
     "output_type": "stream",
     "text": [
      "\u001b[33mWARNING: Ignoring invalid distribution -okenizers (/home/jupyter/.local/lib/python3.10/site-packages)\u001b[0m\u001b[33m\n",
      "\u001b[0m\u001b[33mWARNING: Ignoring invalid distribution -okenizers (/home/jupyter/.local/lib/python3.10/site-packages)\u001b[0m\u001b[33m\n",
      "\u001b[0m\u001b[33mWARNING: Ignoring invalid distribution -okenizers (/home/jupyter/.local/lib/python3.10/site-packages)\u001b[0m\u001b[33m\n",
      "\u001b[0m\u001b[33mWARNING: Ignoring invalid distribution -okenizers (/home/jupyter/.local/lib/python3.10/site-packages)\u001b[0m\u001b[33m\n",
      "\u001b[0m\u001b[33mWARNING: Ignoring invalid distribution -okenizers (/home/jupyter/.local/lib/python3.10/site-packages)\u001b[0m\u001b[33m\n",
      "\u001b[0m\u001b[33mWARNING: Ignoring invalid distribution -okenizers (/home/jupyter/.local/lib/python3.10/site-packages)\u001b[0m\u001b[33m\n",
      "\u001b[0m\u001b[31mERROR: pip's dependency resolver does not currently take into account all the packages that are installed. This behaviour is the source of the following dependency conflicts.\n",
      "transformers 4.38.2 requires tokenizers<0.19,>=0.14, but you have tokenizers 0.20.1 which is incompatible.\n",
      "unbabel-comet 2.2.2 requires protobuf<5.0.0,>=4.24.4, but you have protobuf 3.20.0 which is incompatible.\u001b[0m\u001b[31m\n",
      "\u001b[0m\n",
      "\u001b[1m[\u001b[0m\u001b[34;49mnotice\u001b[0m\u001b[1;39;49m]\u001b[0m\u001b[39;49m A new release of pip is available: \u001b[0m\u001b[31;49m23.0.1\u001b[0m\u001b[39;49m -> \u001b[0m\u001b[32;49m24.2\u001b[0m\n",
      "\u001b[1m[\u001b[0m\u001b[34;49mnotice\u001b[0m\u001b[1;39;49m]\u001b[0m\u001b[39;49m To update, run: \u001b[0m\u001b[32;49mpython3 -m pip install --upgrade pip\u001b[0m\n",
      "\u001b[33mWARNING: Ignoring invalid distribution -okenizers (/home/jupyter/.local/lib/python3.10/site-packages)\u001b[0m\u001b[33m\n",
      "\u001b[0m\u001b[33mWARNING: Ignoring invalid distribution -okenizers (/home/jupyter/.local/lib/python3.10/site-packages)\u001b[0m\u001b[33m\n",
      "\u001b[0m\u001b[33mWARNING: Ignoring invalid distribution -okenizers (/home/jupyter/.local/lib/python3.10/site-packages)\u001b[0m\u001b[33m\n",
      "\u001b[0m\u001b[31mERROR: pip's dependency resolver does not currently take into account all the packages that are installed. This behaviour is the source of the following dependency conflicts.\n",
      "unbabel-comet 2.2.2 requires protobuf<5.0.0,>=4.24.4, but you have protobuf 3.20.0 which is incompatible.\u001b[0m\u001b[31m\n",
      "\u001b[0m\n",
      "\u001b[1m[\u001b[0m\u001b[34;49mnotice\u001b[0m\u001b[1;39;49m]\u001b[0m\u001b[39;49m A new release of pip is available: \u001b[0m\u001b[31;49m23.0.1\u001b[0m\u001b[39;49m -> \u001b[0m\u001b[32;49m24.2\u001b[0m\n",
      "\u001b[1m[\u001b[0m\u001b[34;49mnotice\u001b[0m\u001b[1;39;49m]\u001b[0m\u001b[39;49m To update, run: \u001b[0m\u001b[32;49mpython3 -m pip install --upgrade pip\u001b[0m\n"
     ]
    }
   ],
   "source": [
    "%pip install --upgrade torch torchvision torchaudio --index-url https://download.pytorch.org/whl/cu124 -q\n",
    "%pip install -U tokenizers -q\n",
    "%pip install peft transformers protobuf==3.20 bitsandbytes sentencepiece sacrebleu ipython datasets evaluate deepspeed einops wandb zstandard accelerate jsonlines trl tokenizers -q"
   ]
  },
  {
   "cell_type": "code",
   "execution_count": null,
   "id": "f93de812-1d46-4db7-b762-104f33de9690",
   "metadata": {
    "execution": {
     "iopub.execute_input": "2024-10-18T06:43:18.746335Z",
     "iopub.status.busy": "2024-10-18T06:43:18.745999Z"
    },
    "tags": []
   },
   "outputs": [
    {
     "name": "stderr",
     "output_type": "stream",
     "text": [
      "/home/jupyter/.local/lib/python3.10/site-packages/transformers/utils/hub.py:124: FutureWarning: Using `TRANSFORMERS_CACHE` is deprecated and will be removed in v5 of Transformers. Use `HF_HOME` instead.\n",
      "  warnings.warn(\n"
     ]
    }
   ],
   "source": [
    "import torch\n",
    "from transformers import AutoModelForCausalLM\n",
    "from transformers import AutoTokenizer\n",
    "\n",
    "from peft import PeftModel, PeftConfig\n",
    "\n",
    "import matplotlib.pyplot as plt\n",
    "\n",
    "from comet import download_model, load_from_checkpoint"
   ]
  },
  {
   "cell_type": "code",
   "execution_count": null,
   "id": "3a116327-1c50-4d3d-aa02-a4dfb30f9e0a",
   "metadata": {
    "tags": []
   },
   "outputs": [],
   "source": [
    "import json\n",
    "\n",
    "with open('data/translate_cpo_kiwi.json', 'r') as f:\n",
    "    data = json.load(f)"
   ]
  },
  {
   "cell_type": "code",
   "execution_count": 14,
   "id": "6755a841-ae10-4aa7-a04f-b95cb657909e",
   "metadata": {
    "execution": {
     "iopub.execute_input": "2024-10-17T23:19:04.310819Z",
     "iopub.status.busy": "2024-10-17T23:19:04.310509Z",
     "iopub.status.idle": "2024-10-17T23:19:04.319231Z",
     "shell.execute_reply": "2024-10-17T23:19:04.318599Z",
     "shell.execute_reply.started": "2024-10-17T23:19:04.310800Z"
    },
    "tags": []
   },
   "outputs": [],
   "source": [
    "def adequacy(en_tr, en_ref):\n",
    "    return len(en_tr) / len(en_ref)"
   ]
  },
  {
   "cell_type": "code",
   "execution_count": 15,
   "id": "f5a08dcd-009e-49b1-85f2-dd295fa53611",
   "metadata": {
    "execution": {
     "iopub.execute_input": "2024-10-17T23:19:04.320235Z",
     "iopub.status.busy": "2024-10-17T23:19:04.319940Z",
     "iopub.status.idle": "2024-10-17T23:19:04.337403Z",
     "shell.execute_reply": "2024-10-17T23:19:04.336784Z",
     "shell.execute_reply.started": "2024-10-17T23:19:04.320215Z"
    },
    "tags": []
   },
   "outputs": [],
   "source": [
    "adequacy_score = [adequacy(item['mt'], item['ref']) for item in data]"
   ]
  },
  {
   "cell_type": "code",
   "execution_count": 16,
   "id": "b2d7563f-b7db-45c0-bf14-4b2b8219a8e1",
   "metadata": {
    "execution": {
     "iopub.execute_input": "2024-10-17T23:19:04.338605Z",
     "iopub.status.busy": "2024-10-17T23:19:04.338102Z",
     "iopub.status.idle": "2024-10-17T23:19:04.551431Z",
     "shell.execute_reply": "2024-10-17T23:19:04.550766Z",
     "shell.execute_reply.started": "2024-10-17T23:19:04.338584Z"
    },
    "tags": []
   },
   "outputs": [
    {
     "data": {
      "text/plain": [
       "Text(0.5, 1.0, 'Отношение длины перевода на EN к референсу EN')"
      ]
     },
     "execution_count": 16,
     "metadata": {},
     "output_type": "execute_result"
    },
    {
     "data": {
      "image/png": "[encoded data removed]",
      "text/plain": [
       "<Figure size 640x480 with 1 Axes>"
      ]
     },
     "metadata": {},
     "output_type": "display_data"
    }
   ],
   "source": [
    "plt.hist(adequacy_score, bins = 20)\n",
    "plt.title('Отношение длины перевода на EN к референсу EN')"
   ]
  },
  {
   "cell_type": "code",
   "execution_count": null,
   "id": "e46295ce-fcba-430c-9a13-88d564affdef",
   "metadata": {
    "execution": {
     "iopub.execute_input": "2024-10-18T07:00:06.518062Z",
     "iopub.status.busy": "2024-10-18T07:00:06.517791Z"
    },
    "tags": []
   },
   "outputs": [],
   "source": [
    "from typing import Dict, List\n",
    "import torch\n",
    "\n",
    "device = torch.device('cuda' if torch.cuda.is_available() else 'cpu')"
   ]
  },
  {
   "cell_type": "code",
   "execution_count": 12,
   "id": "717477a4-e4aa-4d29-a1be-1a4ce72256cf",
   "metadata": {
    "execution": {
     "iopub.execute_input": "2024-10-18T06:55:45.863590Z",
     "iopub.status.busy": "2024-10-18T06:55:45.862517Z",
     "iopub.status.idle": "2024-10-18T06:55:45.884302Z",
     "shell.execute_reply": "2024-10-18T06:55:45.883620Z",
     "shell.execute_reply.started": "2024-10-18T06:55:45.863564Z"
    },
    "tags": []
   },
   "outputs": [],
   "source": [
    "from comet import download_model, load_from_checkpoint"
   ]
  },
  {
   "cell_type": "code",
   "execution_count": null,
   "id": "639b918d-fe06-4d91-9992-d4eac39e2f42",
   "metadata": {
    "tags": []
   },
   "outputs": [],
   "source": [
    "model_path_xcomet = download_model(\"Unbabel/XCOMET-XL\")\n",
    "model_xcomet = load_from_checkpoint(model_path_xcomet)\n",
    "model_xcomet = model_xcomet.to(device)"
   ]
  },
  {
   "cell_type": "code",
   "execution_count": null,
   "id": "a0c5d85f-e5ab-4ab3-b895-1717bf0e05e9",
   "metadata": {
    "execution": {
     "iopub.status.busy": "2024-10-17T23:21:00.197256Z",
     "iopub.status.idle": "2024-10-17T23:21:00.197544Z",
     "shell.execute_reply": "2024-10-17T23:21:00.197433Z",
     "shell.execute_reply.started": "2024-10-17T23:21:00.197403Z"
    },
    "tags": []
   },
   "outputs": [],
   "source": [
    "def xcomet(data: List[Dict[str, str]]) -> List[float]:\n",
    "    \n",
    "    '''Format\n",
    "    data = [\n",
    "    {\n",
    "        # Source, текст, который надо перевести, src\n",
    "        \"src\": \"В понедельник\", \n",
    "        \n",
    "        # Machine Translation\n",
    "        \"mt\": \"On Monday\", \n",
    "        \n",
    "        # Эталонный перевод, en\n",
    "        \"ref\": \"On Monday\" \n",
    "    }'''\n",
    "    \n",
    "    \n",
    "    xcomet_metric = model_xcomet.predict(data, batch_size=8, gpus=1)\n",
    "    return xcomet_metric.scores"
   ]
  },
  {
   "cell_type": "code",
   "execution_count": null,
   "id": "8f06de50-c0df-4bb5-b76f-d4ab618c7291",
   "metadata": {
    "execution": {
     "iopub.status.busy": "2024-10-17T23:21:00.198720Z",
     "iopub.status.idle": "2024-10-17T23:21:00.198987Z",
     "shell.execute_reply": "2024-10-17T23:21:00.198882Z",
     "shell.execute_reply.started": "2024-10-17T23:21:00.198866Z"
    },
    "tags": []
   },
   "outputs": [],
   "source": [
    "xcomet_cpo_score = xcomet(data)"
   ]
  },
  {
   "cell_type": "code",
   "execution_count": null,
   "id": "89592d35-be01-4ad6-9b1d-16376f16cb59",
   "metadata": {
    "execution": {
     "iopub.status.busy": "2024-10-17T23:21:00.200727Z",
     "iopub.status.idle": "2024-10-17T23:21:00.201553Z",
     "shell.execute_reply": "2024-10-17T23:21:00.201363Z",
     "shell.execute_reply.started": "2024-10-17T23:21:00.201343Z"
    },
    "tags": []
   },
   "outputs": [],
   "source": [
    "plt.hist(xcomet_cpo_score, bins = 20)\n",
    "plt.title('XCOMET')"
   ]
  },
  {
   "cell_type": "code",
   "execution_count": null,
   "id": "dd4f5d69-523c-4055-910b-ef95b76fef4e",
   "metadata": {
    "execution": {
     "iopub.status.busy": "2024-10-17T23:21:00.202366Z",
     "iopub.status.idle": "2024-10-17T23:21:00.202734Z",
     "shell.execute_reply": "2024-10-17T23:21:00.202573Z",
     "shell.execute_reply.started": "2024-10-17T23:21:00.202553Z"
    },
    "tags": []
   },
   "outputs": [],
   "source": [
    "# cpo = 0.9626026108213093\n",
    "# modpo = 0.9377332176762843\n",
    "# alma = 0.9512363975580502\n",
    "\n",
    "import numpy as np\n",
    "np.mean(np.array(xcomet_cpo_score))"
   ]
  },
  {
   "cell_type": "code",
   "execution_count": null,
   "id": "7dadd35d-789b-449d-adec-9e5e4e7a2f79",
   "metadata": {
    "execution": {
     "iopub.status.busy": "2024-10-17T23:21:00.203922Z",
     "iopub.status.idle": "2024-10-17T23:21:00.204389Z",
     "shell.execute_reply": "2024-10-17T23:21:00.204248Z",
     "shell.execute_reply.started": "2024-10-17T23:21:00.204228Z"
    },
    "tags": []
   },
   "outputs": [],
   "source": [
    "from transformers import AutoTokenizer, AutoModelForSequenceClassification\n",
    "import torch \n",
    "\n",
    "tokenizer = AutoTokenizer.from_pretrained(\"cointegrated/roberta-large-cola-krishna2020\")\n",
    "model_fluency = AutoModelForSequenceClassification.from_pretrained(\"cointegrated/roberta-large-cola-krishna2020\")\n",
    "model_fluency = model_fluency.to(device)"
   ]
  },
  {
   "cell_type": "code",
   "execution_count": null,
   "id": "55c69674-fdc9-444d-b314-d470097bdd5f",
   "metadata": {
    "execution": {
     "iopub.status.busy": "2024-10-17T23:21:00.205205Z",
     "iopub.status.idle": "2024-10-17T23:21:00.205609Z",
     "shell.execute_reply": "2024-10-17T23:21:00.205445Z",
     "shell.execute_reply.started": "2024-10-17T23:21:00.205404Z"
    },
    "tags": []
   },
   "outputs": [],
   "source": [
    "def fluency(data: str) -> float:\n",
    "    return torch.softmax(model_fluency(**tokenizer(data, return_tensors=\"pt\").to(device)).logits, dim = -1)[0][0].detach().cpu().float()"
   ]
  },
  {
   "cell_type": "code",
   "execution_count": null,
   "id": "de5365b4-2a13-4c10-801d-e14e3cad792e",
   "metadata": {
    "execution": {
     "iopub.status.busy": "2024-10-17T23:21:00.206832Z",
     "iopub.status.idle": "2024-10-17T23:21:00.207208Z",
     "shell.execute_reply": "2024-10-17T23:21:00.207050Z",
     "shell.execute_reply.started": "2024-10-17T23:21:00.207030Z"
    },
    "tags": []
   },
   "outputs": [],
   "source": [
    "data_fluency = [item['mt'] for item in data]\n",
    "data_fluency[0], data_fluency[1]"
   ]
  },
  {
   "cell_type": "code",
   "execution_count": null,
   "id": "2e97005b-097b-43fa-a567-27aaddc8ddbd",
   "metadata": {
    "execution": {
     "iopub.status.busy": "2024-10-17T23:21:00.208196Z",
     "iopub.status.idle": "2024-10-17T23:21:00.208552Z",
     "shell.execute_reply": "2024-10-17T23:21:00.208401Z",
     "shell.execute_reply.started": "2024-10-17T23:21:00.208381Z"
    },
    "tags": []
   },
   "outputs": [],
   "source": [
    "fluency_cpo_score = [fluency(item) for item in data_fluency]"
   ]
  },
  {
   "cell_type": "code",
   "execution_count": null,
   "id": "755d6dbf-c8b3-4cb5-ab48-fb237c89f7ba",
   "metadata": {
    "execution": {
     "iopub.status.busy": "2024-10-17T23:21:00.209538Z",
     "iopub.status.idle": "2024-10-17T23:21:00.209863Z",
     "shell.execute_reply": "2024-10-17T23:21:00.209735Z",
     "shell.execute_reply.started": "2024-10-17T23:21:00.209717Z"
    },
    "tags": []
   },
   "outputs": [],
   "source": [
    "import matplotlib.pyplot as plt\n",
    "\n",
    "plt.hist(fluency_cpo_score, bins = 20)\n",
    "plt.title('Fluency')"
   ]
  },
  {
   "cell_type": "code",
   "execution_count": null,
   "id": "9ac12118-90de-4ee6-bf2d-e179ee7068fa",
   "metadata": {
    "execution": {
     "iopub.status.busy": "2024-10-17T23:21:00.210576Z",
     "iopub.status.idle": "2024-10-17T23:21:00.210844Z",
     "shell.execute_reply": "2024-10-17T23:21:00.210736Z",
     "shell.execute_reply.started": "2024-10-17T23:21:00.210720Z"
    },
    "tags": []
   },
   "outputs": [],
   "source": [
    "# cpo = 0.9737626\n",
    "# modpo = 0.93584627\n",
    "# alma = 0.9457284 (??? 0.037422378 ???)\n",
    "\n",
    "\n",
    "import numpy as np\n",
    "\n",
    "np.mean(np.array(fluency_cpo_score))"
   ]
  },
  {
   "cell_type": "code",
   "execution_count": null,
   "id": "95998f92-df40-4aa9-83bd-43c4b7676bf6",
   "metadata": {
    "execution": {
     "iopub.execute_input": "2024-10-18T06:34:47.430485Z",
     "iopub.status.busy": "2024-10-18T06:34:47.429930Z"
    },
    "tags": []
   },
   "outputs": [
    {
     "name": "stderr",
     "output_type": "stream",
     "text": [
      "Fetching 6 files:   0%|          | 0/6 [00:00<?, ?it/s]/home/jupyter/.local/lib/python3.10/site-packages/huggingface_hub/file_download.py:983: UserWarning: Not enough free disk space to download the file. The expected file size is: 42868.10 MB. The target location /tmp/xdg_cache/huggingface/hub/models--Unbabel--wmt23-cometkiwi-da-xxl/blobs only has 35736.35 MB free disk space.\n",
      "  warnings.warn(\n",
      "/home/jupyter/.local/lib/python3.10/site-packages/huggingface_hub/file_download.py:983: UserWarning: Not enough free disk space to download the file. The expected file size is: 42868.10 MB. The target location /tmp/xdg_cache/huggingface/hub/models--Unbabel--wmt23-cometkiwi-da-xxl/blobs only has 35736.35 MB free disk space.\n",
      "  warnings.warn(\n",
      "Fetching 6 files:  50%|█████     | 3/6 [03:33<03:33, 71.02s/it]\n"
     ]
    },
    {
     "ename": "KeyboardInterrupt",
     "evalue": "",
     "output_type": "error",
     "traceback": [
      "\u001b[0;31m---------------------------------------------------------------------------\u001b[0m",
      "\u001b[0;31mKeyboardInterrupt\u001b[0m                         Traceback (most recent call last)",
      "\u001b[0;32m~/.local/lib/python3.10/site-packages/tqdm/contrib/concurrent.py\u001b[0m in \u001b[0;36m_executor_map\u001b[0;34m(PoolExecutor, fn, *iterables, **tqdm_kwargs)\u001b[0m\n\u001b[1;32m     50\u001b[0m                           initargs=(lk,)) as ex:\n\u001b[0;32m---> 51\u001b[0;31m             \u001b[0;32mreturn\u001b[0m \u001b[0mlist\u001b[0m\u001b[0;34m(\u001b[0m\u001b[0mtqdm_class\u001b[0m\u001b[0;34m(\u001b[0m\u001b[0mex\u001b[0m\u001b[0;34m.\u001b[0m\u001b[0mmap\u001b[0m\u001b[0;34m(\u001b[0m\u001b[0mfn\u001b[0m\u001b[0;34m,\u001b[0m \u001b[0;34m*\u001b[0m\u001b[0miterables\u001b[0m\u001b[0;34m,\u001b[0m \u001b[0mchunksize\u001b[0m\u001b[0;34m=\u001b[0m\u001b[0mchunksize\u001b[0m\u001b[0;34m)\u001b[0m\u001b[0;34m,\u001b[0m \u001b[0;34m**\u001b[0m\u001b[0mkwargs\u001b[0m\u001b[0;34m)\u001b[0m\u001b[0;34m)\u001b[0m\u001b[0;34m\u001b[0m\u001b[0;34m\u001b[0m\u001b[0m\n\u001b[0m\u001b[1;32m     52\u001b[0m \u001b[0;34m\u001b[0m\u001b[0m\n",
      "\u001b[0;32m~/.local/lib/python3.10/site-packages/tqdm/std.py\u001b[0m in \u001b[0;36m__iter__\u001b[0;34m(self)\u001b[0m\n\u001b[1;32m   1181\u001b[0m         \u001b[0;32mtry\u001b[0m\u001b[0;34m:\u001b[0m\u001b[0;34m\u001b[0m\u001b[0;34m\u001b[0m\u001b[0m\n\u001b[0;32m-> 1182\u001b[0;31m             \u001b[0;32mfor\u001b[0m \u001b[0mobj\u001b[0m \u001b[0;32min\u001b[0m \u001b[0miterable\u001b[0m\u001b[0;34m:\u001b[0m\u001b[0;34m\u001b[0m\u001b[0;34m\u001b[0m\u001b[0m\n\u001b[0m\u001b[1;32m   1183\u001b[0m                 \u001b[0;32myield\u001b[0m \u001b[0mobj\u001b[0m\u001b[0;34m\u001b[0m\u001b[0;34m\u001b[0m\u001b[0m\n",
      "\u001b[0;32m/usr/lib/python3.10/concurrent/futures/_base.py\u001b[0m in \u001b[0;36mresult_iterator\u001b[0;34m()\u001b[0m\n\u001b[1;32m    620\u001b[0m                     \u001b[0;32mif\u001b[0m \u001b[0mtimeout\u001b[0m \u001b[0;32mis\u001b[0m \u001b[0;32mNone\u001b[0m\u001b[0;34m:\u001b[0m\u001b[0;34m\u001b[0m\u001b[0;34m\u001b[0m\u001b[0m\n\u001b[0;32m--> 621\u001b[0;31m                         \u001b[0;32myield\u001b[0m \u001b[0m_result_or_cancel\u001b[0m\u001b[0;34m(\u001b[0m\u001b[0mfs\u001b[0m\u001b[0;34m.\u001b[0m\u001b[0mpop\u001b[0m\u001b[0;34m(\u001b[0m\u001b[0;34m)\u001b[0m\u001b[0;34m)\u001b[0m\u001b[0;34m\u001b[0m\u001b[0;34m\u001b[0m\u001b[0m\n\u001b[0m\u001b[1;32m    622\u001b[0m                     \u001b[0;32melse\u001b[0m\u001b[0;34m:\u001b[0m\u001b[0;34m\u001b[0m\u001b[0;34m\u001b[0m\u001b[0m\n",
      "\u001b[0;32m/usr/lib/python3.10/concurrent/futures/_base.py\u001b[0m in \u001b[0;36m_result_or_cancel\u001b[0;34m(***failed resolving arguments***)\u001b[0m\n\u001b[1;32m    318\u001b[0m         \u001b[0;32mtry\u001b[0m\u001b[0;34m:\u001b[0m\u001b[0;34m\u001b[0m\u001b[0;34m\u001b[0m\u001b[0m\n\u001b[0;32m--> 319\u001b[0;31m             \u001b[0;32mreturn\u001b[0m \u001b[0mfut\u001b[0m\u001b[0;34m.\u001b[0m\u001b[0mresult\u001b[0m\u001b[0;34m(\u001b[0m\u001b[0mtimeout\u001b[0m\u001b[0;34m)\u001b[0m\u001b[0;34m\u001b[0m\u001b[0;34m\u001b[0m\u001b[0m\n\u001b[0m\u001b[1;32m    320\u001b[0m         \u001b[0;32mfinally\u001b[0m\u001b[0;34m:\u001b[0m\u001b[0;34m\u001b[0m\u001b[0;34m\u001b[0m\u001b[0m\n",
      "\u001b[0;32m/usr/lib/python3.10/concurrent/futures/_base.py\u001b[0m in \u001b[0;36mresult\u001b[0;34m(self, timeout)\u001b[0m\n\u001b[1;32m    452\u001b[0m \u001b[0;34m\u001b[0m\u001b[0m\n\u001b[0;32m--> 453\u001b[0;31m                 \u001b[0mself\u001b[0m\u001b[0;34m.\u001b[0m\u001b[0m_condition\u001b[0m\u001b[0;34m.\u001b[0m\u001b[0mwait\u001b[0m\u001b[0;34m(\u001b[0m\u001b[0mtimeout\u001b[0m\u001b[0;34m)\u001b[0m\u001b[0;34m\u001b[0m\u001b[0;34m\u001b[0m\u001b[0m\n\u001b[0m\u001b[1;32m    454\u001b[0m \u001b[0;34m\u001b[0m\u001b[0m\n",
      "\u001b[0;32m/usr/lib/python3.10/threading.py\u001b[0m in \u001b[0;36mwait\u001b[0;34m(self, timeout)\u001b[0m\n\u001b[1;32m    319\u001b[0m             \u001b[0;32mif\u001b[0m \u001b[0mtimeout\u001b[0m \u001b[0;32mis\u001b[0m \u001b[0;32mNone\u001b[0m\u001b[0;34m:\u001b[0m\u001b[0;34m\u001b[0m\u001b[0;34m\u001b[0m\u001b[0m\n\u001b[0;32m--> 320\u001b[0;31m                 \u001b[0mwaiter\u001b[0m\u001b[0;34m.\u001b[0m\u001b[0macquire\u001b[0m\u001b[0;34m(\u001b[0m\u001b[0;34m)\u001b[0m\u001b[0;34m\u001b[0m\u001b[0;34m\u001b[0m\u001b[0m\n\u001b[0m\u001b[1;32m    321\u001b[0m                 \u001b[0mgotit\u001b[0m \u001b[0;34m=\u001b[0m \u001b[0;32mTrue\u001b[0m\u001b[0;34m\u001b[0m\u001b[0;34m\u001b[0m\u001b[0m\n",
      "\u001b[0;31mKeyboardInterrupt\u001b[0m: ",
      "\nDuring handling of the above exception, another exception occurred:\n",
      "\u001b[0;31mKeyboardInterrupt\u001b[0m                         Traceback (most recent call last)",
      "\u001b[0;32m/tmp/ipykernel_7429/536304295.py\u001b[0m in \u001b[0;36m<cell line: 6>\u001b[0;34m()\u001b[0m\n\u001b[1;32m      4\u001b[0m \u001b[0;31m# device = torch.device('cuda' if torch.cuda.is_available() else 'cpu')\u001b[0m\u001b[0;34m\u001b[0m\u001b[0;34m\u001b[0m\u001b[0m\n\u001b[1;32m      5\u001b[0m \u001b[0;34m\u001b[0m\u001b[0m\n\u001b[0;32m----> 6\u001b[0;31m \u001b[0mmodel_path_kiwi\u001b[0m \u001b[0;34m=\u001b[0m \u001b[0mdownload_model\u001b[0m\u001b[0;34m(\u001b[0m\u001b[0;34m\"Unbabel/wmt23-cometkiwi-da-xxl\"\u001b[0m\u001b[0;34m)\u001b[0m\u001b[0;34m\u001b[0m\u001b[0;34m\u001b[0m\u001b[0m\n\u001b[0m\u001b[1;32m      7\u001b[0m \u001b[0mmodel_kiwi\u001b[0m \u001b[0;34m=\u001b[0m \u001b[0mload_from_checkpoint\u001b[0m\u001b[0;34m(\u001b[0m\u001b[0mmodel_path_kiwi\u001b[0m\u001b[0;34m)\u001b[0m\u001b[0;34m\u001b[0m\u001b[0;34m\u001b[0m\u001b[0m\n\u001b[1;32m      8\u001b[0m \u001b[0mmodel_kiwi\u001b[0m \u001b[0;34m=\u001b[0m \u001b[0mmodel_kiwi\u001b[0m\u001b[0;34m.\u001b[0m\u001b[0mto\u001b[0m\u001b[0;34m(\u001b[0m\u001b[0mdevice\u001b[0m\u001b[0;34m)\u001b[0m\u001b[0;34m\u001b[0m\u001b[0;34m\u001b[0m\u001b[0m\n",
      "\u001b[0;32m~/.local/lib/python3.10/site-packages/comet/models/__init__.py\u001b[0m in \u001b[0;36mdownload_model\u001b[0;34m(model, saving_directory, local_files_only)\u001b[0m\n\u001b[1;32m     46\u001b[0m ) -> str:\n\u001b[1;32m     47\u001b[0m     \u001b[0;32mtry\u001b[0m\u001b[0;34m:\u001b[0m\u001b[0;34m\u001b[0m\u001b[0;34m\u001b[0m\u001b[0m\n\u001b[0;32m---> 48\u001b[0;31m         model_path = snapshot_download(\n\u001b[0m\u001b[1;32m     49\u001b[0m             \u001b[0mrepo_id\u001b[0m\u001b[0;34m=\u001b[0m\u001b[0mmodel\u001b[0m\u001b[0;34m,\u001b[0m \u001b[0mcache_dir\u001b[0m\u001b[0;34m=\u001b[0m\u001b[0msaving_directory\u001b[0m\u001b[0;34m,\u001b[0m \u001b[0mlocal_files_only\u001b[0m\u001b[0;34m=\u001b[0m\u001b[0mlocal_files_only\u001b[0m\u001b[0;34m\u001b[0m\u001b[0;34m\u001b[0m\u001b[0m\n\u001b[1;32m     50\u001b[0m         )\n",
      "\u001b[0;32m~/.local/lib/python3.10/site-packages/huggingface_hub/utils/_validators.py\u001b[0m in \u001b[0;36m_inner_fn\u001b[0;34m(*args, **kwargs)\u001b[0m\n\u001b[1;32m    112\u001b[0m             \u001b[0mkwargs\u001b[0m \u001b[0;34m=\u001b[0m \u001b[0msmoothly_deprecate_use_auth_token\u001b[0m\u001b[0;34m(\u001b[0m\u001b[0mfn_name\u001b[0m\u001b[0;34m=\u001b[0m\u001b[0mfn\u001b[0m\u001b[0;34m.\u001b[0m\u001b[0m__name__\u001b[0m\u001b[0;34m,\u001b[0m \u001b[0mhas_token\u001b[0m\u001b[0;34m=\u001b[0m\u001b[0mhas_token\u001b[0m\u001b[0;34m,\u001b[0m \u001b[0mkwargs\u001b[0m\u001b[0;34m=\u001b[0m\u001b[0mkwargs\u001b[0m\u001b[0;34m)\u001b[0m\u001b[0;34m\u001b[0m\u001b[0;34m\u001b[0m\u001b[0m\n\u001b[1;32m    113\u001b[0m \u001b[0;34m\u001b[0m\u001b[0m\n\u001b[0;32m--> 114\u001b[0;31m         \u001b[0;32mreturn\u001b[0m \u001b[0mfn\u001b[0m\u001b[0;34m(\u001b[0m\u001b[0;34m*\u001b[0m\u001b[0margs\u001b[0m\u001b[0;34m,\u001b[0m \u001b[0;34m**\u001b[0m\u001b[0mkwargs\u001b[0m\u001b[0;34m)\u001b[0m\u001b[0;34m\u001b[0m\u001b[0;34m\u001b[0m\u001b[0m\n\u001b[0m\u001b[1;32m    115\u001b[0m \u001b[0;34m\u001b[0m\u001b[0m\n\u001b[1;32m    116\u001b[0m     \u001b[0;32mreturn\u001b[0m \u001b[0m_inner_fn\u001b[0m  \u001b[0;31m# type: ignore\u001b[0m\u001b[0;34m\u001b[0m\u001b[0;34m\u001b[0m\u001b[0m\n",
      "\u001b[0;32m~/.local/lib/python3.10/site-packages/huggingface_hub/_snapshot_download.py\u001b[0m in \u001b[0;36msnapshot_download\u001b[0;34m(repo_id, repo_type, revision, cache_dir, local_dir, library_name, library_version, user_agent, proxies, etag_timeout, force_download, token, local_files_only, allow_patterns, ignore_patterns, max_workers, tqdm_class, headers, endpoint, local_dir_use_symlinks, resume_download)\u001b[0m\n\u001b[1;32m    291\u001b[0m             \u001b[0m_inner_hf_hub_download\u001b[0m\u001b[0;34m(\u001b[0m\u001b[0mfile\u001b[0m\u001b[0;34m)\u001b[0m\u001b[0;34m\u001b[0m\u001b[0;34m\u001b[0m\u001b[0m\n\u001b[1;32m    292\u001b[0m     \u001b[0;32melse\u001b[0m\u001b[0;34m:\u001b[0m\u001b[0;34m\u001b[0m\u001b[0;34m\u001b[0m\u001b[0m\n\u001b[0;32m--> 293\u001b[0;31m         thread_map(\n\u001b[0m\u001b[1;32m    294\u001b[0m             \u001b[0m_inner_hf_hub_download\u001b[0m\u001b[0;34m,\u001b[0m\u001b[0;34m\u001b[0m\u001b[0;34m\u001b[0m\u001b[0m\n\u001b[1;32m    295\u001b[0m             \u001b[0mfiltered_repo_files\u001b[0m\u001b[0;34m,\u001b[0m\u001b[0;34m\u001b[0m\u001b[0;34m\u001b[0m\u001b[0m\n",
      "\u001b[0;32m~/.local/lib/python3.10/site-packages/tqdm/contrib/concurrent.py\u001b[0m in \u001b[0;36mthread_map\u001b[0;34m(fn, *iterables, **tqdm_kwargs)\u001b[0m\n\u001b[1;32m     67\u001b[0m     \"\"\"\n\u001b[1;32m     68\u001b[0m     \u001b[0;32mfrom\u001b[0m \u001b[0mconcurrent\u001b[0m\u001b[0;34m.\u001b[0m\u001b[0mfutures\u001b[0m \u001b[0;32mimport\u001b[0m \u001b[0mThreadPoolExecutor\u001b[0m\u001b[0;34m\u001b[0m\u001b[0;34m\u001b[0m\u001b[0m\n\u001b[0;32m---> 69\u001b[0;31m     \u001b[0;32mreturn\u001b[0m \u001b[0m_executor_map\u001b[0m\u001b[0;34m(\u001b[0m\u001b[0mThreadPoolExecutor\u001b[0m\u001b[0;34m,\u001b[0m \u001b[0mfn\u001b[0m\u001b[0;34m,\u001b[0m \u001b[0;34m*\u001b[0m\u001b[0miterables\u001b[0m\u001b[0;34m,\u001b[0m \u001b[0;34m**\u001b[0m\u001b[0mtqdm_kwargs\u001b[0m\u001b[0;34m)\u001b[0m\u001b[0;34m\u001b[0m\u001b[0;34m\u001b[0m\u001b[0m\n\u001b[0m\u001b[1;32m     70\u001b[0m \u001b[0;34m\u001b[0m\u001b[0m\n\u001b[1;32m     71\u001b[0m \u001b[0;34m\u001b[0m\u001b[0m\n",
      "\u001b[0;32m~/.local/lib/python3.10/site-packages/tqdm/contrib/concurrent.py\u001b[0m in \u001b[0;36m_executor_map\u001b[0;34m(PoolExecutor, fn, *iterables, **tqdm_kwargs)\u001b[0m\n\u001b[1;32m     47\u001b[0m     \u001b[0;32mwith\u001b[0m \u001b[0mensure_lock\u001b[0m\u001b[0;34m(\u001b[0m\u001b[0mtqdm_class\u001b[0m\u001b[0;34m,\u001b[0m \u001b[0mlock_name\u001b[0m\u001b[0;34m=\u001b[0m\u001b[0mlock_name\u001b[0m\u001b[0;34m)\u001b[0m \u001b[0;32mas\u001b[0m \u001b[0mlk\u001b[0m\u001b[0;34m:\u001b[0m\u001b[0;34m\u001b[0m\u001b[0;34m\u001b[0m\u001b[0m\n\u001b[1;32m     48\u001b[0m         \u001b[0;31m# share lock in case workers are already using `tqdm`\u001b[0m\u001b[0;34m\u001b[0m\u001b[0;34m\u001b[0m\u001b[0m\n\u001b[0;32m---> 49\u001b[0;31m         with PoolExecutor(max_workers=max_workers, initializer=tqdm_class.set_lock,\n\u001b[0m\u001b[1;32m     50\u001b[0m                           initargs=(lk,)) as ex:\n\u001b[1;32m     51\u001b[0m             \u001b[0;32mreturn\u001b[0m \u001b[0mlist\u001b[0m\u001b[0;34m(\u001b[0m\u001b[0mtqdm_class\u001b[0m\u001b[0;34m(\u001b[0m\u001b[0mex\u001b[0m\u001b[0;34m.\u001b[0m\u001b[0mmap\u001b[0m\u001b[0;34m(\u001b[0m\u001b[0mfn\u001b[0m\u001b[0;34m,\u001b[0m \u001b[0;34m*\u001b[0m\u001b[0miterables\u001b[0m\u001b[0;34m,\u001b[0m \u001b[0mchunksize\u001b[0m\u001b[0;34m=\u001b[0m\u001b[0mchunksize\u001b[0m\u001b[0;34m)\u001b[0m\u001b[0;34m,\u001b[0m \u001b[0;34m**\u001b[0m\u001b[0mkwargs\u001b[0m\u001b[0;34m)\u001b[0m\u001b[0;34m)\u001b[0m\u001b[0;34m\u001b[0m\u001b[0;34m\u001b[0m\u001b[0m\n",
      "\u001b[0;32m/usr/lib/python3.10/concurrent/futures/_base.py\u001b[0m in \u001b[0;36m__exit__\u001b[0;34m(self, exc_type, exc_val, exc_tb)\u001b[0m\n\u001b[1;32m    647\u001b[0m \u001b[0;34m\u001b[0m\u001b[0m\n\u001b[1;32m    648\u001b[0m     \u001b[0;32mdef\u001b[0m \u001b[0m__exit__\u001b[0m\u001b[0;34m(\u001b[0m\u001b[0mself\u001b[0m\u001b[0;34m,\u001b[0m \u001b[0mexc_type\u001b[0m\u001b[0;34m,\u001b[0m \u001b[0mexc_val\u001b[0m\u001b[0;34m,\u001b[0m \u001b[0mexc_tb\u001b[0m\u001b[0;34m)\u001b[0m\u001b[0;34m:\u001b[0m\u001b[0;34m\u001b[0m\u001b[0;34m\u001b[0m\u001b[0m\n\u001b[0;32m--> 649\u001b[0;31m         \u001b[0mself\u001b[0m\u001b[0;34m.\u001b[0m\u001b[0mshutdown\u001b[0m\u001b[0;34m(\u001b[0m\u001b[0mwait\u001b[0m\u001b[0;34m=\u001b[0m\u001b[0;32mTrue\u001b[0m\u001b[0;34m)\u001b[0m\u001b[0;34m\u001b[0m\u001b[0;34m\u001b[0m\u001b[0m\n\u001b[0m\u001b[1;32m    650\u001b[0m         \u001b[0;32mreturn\u001b[0m \u001b[0;32mFalse\u001b[0m\u001b[0;34m\u001b[0m\u001b[0;34m\u001b[0m\u001b[0m\n\u001b[1;32m    651\u001b[0m \u001b[0;34m\u001b[0m\u001b[0m\n",
      "\u001b[0;32m/usr/lib/python3.10/concurrent/futures/thread.py\u001b[0m in \u001b[0;36mshutdown\u001b[0;34m(self, wait, cancel_futures)\u001b[0m\n\u001b[1;32m    233\u001b[0m         \u001b[0;32mif\u001b[0m \u001b[0mwait\u001b[0m\u001b[0;34m:\u001b[0m\u001b[0;34m\u001b[0m\u001b[0;34m\u001b[0m\u001b[0m\n\u001b[1;32m    234\u001b[0m             \u001b[0;32mfor\u001b[0m \u001b[0mt\u001b[0m \u001b[0;32min\u001b[0m \u001b[0mself\u001b[0m\u001b[0;34m.\u001b[0m\u001b[0m_threads\u001b[0m\u001b[0;34m:\u001b[0m\u001b[0;34m\u001b[0m\u001b[0;34m\u001b[0m\u001b[0m\n\u001b[0;32m--> 235\u001b[0;31m                 \u001b[0mt\u001b[0m\u001b[0;34m.\u001b[0m\u001b[0mjoin\u001b[0m\u001b[0;34m(\u001b[0m\u001b[0;34m)\u001b[0m\u001b[0;34m\u001b[0m\u001b[0;34m\u001b[0m\u001b[0m\n\u001b[0m\u001b[1;32m    236\u001b[0m     \u001b[0mshutdown\u001b[0m\u001b[0;34m.\u001b[0m\u001b[0m__doc__\u001b[0m \u001b[0;34m=\u001b[0m \u001b[0m_base\u001b[0m\u001b[0;34m.\u001b[0m\u001b[0mExecutor\u001b[0m\u001b[0;34m.\u001b[0m\u001b[0mshutdown\u001b[0m\u001b[0;34m.\u001b[0m\u001b[0m__doc__\u001b[0m\u001b[0;34m\u001b[0m\u001b[0;34m\u001b[0m\u001b[0m\n",
      "\u001b[0;32m/usr/lib/python3.10/threading.py\u001b[0m in \u001b[0;36mjoin\u001b[0;34m(self, timeout)\u001b[0m\n\u001b[1;32m   1094\u001b[0m \u001b[0;34m\u001b[0m\u001b[0m\n\u001b[1;32m   1095\u001b[0m         \u001b[0;32mif\u001b[0m \u001b[0mtimeout\u001b[0m \u001b[0;32mis\u001b[0m \u001b[0;32mNone\u001b[0m\u001b[0;34m:\u001b[0m\u001b[0;34m\u001b[0m\u001b[0;34m\u001b[0m\u001b[0m\n\u001b[0;32m-> 1096\u001b[0;31m             \u001b[0mself\u001b[0m\u001b[0;34m.\u001b[0m\u001b[0m_wait_for_tstate_lock\u001b[0m\u001b[0;34m(\u001b[0m\u001b[0;34m)\u001b[0m\u001b[0;34m\u001b[0m\u001b[0;34m\u001b[0m\u001b[0m\n\u001b[0m\u001b[1;32m   1097\u001b[0m         \u001b[0;32melse\u001b[0m\u001b[0;34m:\u001b[0m\u001b[0;34m\u001b[0m\u001b[0;34m\u001b[0m\u001b[0m\n\u001b[1;32m   1098\u001b[0m             \u001b[0;31m# the behavior of a negative timeout isn't documented, but\u001b[0m\u001b[0;34m\u001b[0m\u001b[0;34m\u001b[0m\u001b[0m\n",
      "\u001b[0;32m/usr/lib/python3.10/threading.py\u001b[0m in \u001b[0;36m_wait_for_tstate_lock\u001b[0;34m(self, block, timeout)\u001b[0m\n\u001b[1;32m   1114\u001b[0m \u001b[0;34m\u001b[0m\u001b[0m\n\u001b[1;32m   1115\u001b[0m         \u001b[0;32mtry\u001b[0m\u001b[0;34m:\u001b[0m\u001b[0;34m\u001b[0m\u001b[0;34m\u001b[0m\u001b[0m\n\u001b[0;32m-> 1116\u001b[0;31m             \u001b[0;32mif\u001b[0m \u001b[0mlock\u001b[0m\u001b[0;34m.\u001b[0m\u001b[0macquire\u001b[0m\u001b[0;34m(\u001b[0m\u001b[0mblock\u001b[0m\u001b[0;34m,\u001b[0m \u001b[0mtimeout\u001b[0m\u001b[0;34m)\u001b[0m\u001b[0;34m:\u001b[0m\u001b[0;34m\u001b[0m\u001b[0;34m\u001b[0m\u001b[0m\n\u001b[0m\u001b[1;32m   1117\u001b[0m                 \u001b[0mlock\u001b[0m\u001b[0;34m.\u001b[0m\u001b[0mrelease\u001b[0m\u001b[0;34m(\u001b[0m\u001b[0;34m)\u001b[0m\u001b[0;34m\u001b[0m\u001b[0;34m\u001b[0m\u001b[0m\n\u001b[1;32m   1118\u001b[0m                 \u001b[0mself\u001b[0m\u001b[0;34m.\u001b[0m\u001b[0m_stop\u001b[0m\u001b[0;34m(\u001b[0m\u001b[0;34m)\u001b[0m\u001b[0;34m\u001b[0m\u001b[0;34m\u001b[0m\u001b[0m\n",
      "\u001b[0;31mKeyboardInterrupt\u001b[0m: "
     ]
    }
   ],
   "source": [
    "# from typing import Dict, List\n",
    "# from comet import download_model, load_from_checkpoint\n",
    "\n",
    "# device = torch.device('cuda' if torch.cuda.is_available() else 'cpu')\n",
    "\n",
    "model_path_kiwi = download_model(\"Unbabel/wmt23-cometkiwi-da-xxl\")\n",
    "model_kiwi = load_from_checkpoint(model_path_kiwi)\n",
    "model_kiwi = model_kiwi.to(device)"
   ]
  },
  {
   "cell_type": "code",
   "execution_count": null,
   "id": "93eca94f-abe6-4c1b-b383-737d387e5ebf",
   "metadata": {},
   "outputs": [],
   "source": [
    "def kiwi(data: List[Dict[str, str]]) -> List[float]:\n",
    "    \n",
    "    '''Format\n",
    "    data = [\n",
    "    {\n",
    "        # source original text, ru\n",
    "        \"src\": \"В понедельник\",\n",
    "        \n",
    "        # machine translation, en\n",
    "        \"mt\": \"On Monday\"\n",
    "    }'''\n",
    "    \n",
    "    \n",
    "    kiwi_metric = model_kiwi.predict(data, batch_size=8, gpus=1)\n",
    "    return kiwi_metric"
   ]
  },
  {
   "cell_type": "code",
   "execution_count": null,
   "id": "3be6dd38-41bd-4c36-9b91-dc16ff420d8e",
   "metadata": {
    "execution": {
     "iopub.status.busy": "2024-10-17T23:13:27.564939Z",
     "iopub.status.idle": "2024-10-17T23:13:27.565190Z",
     "shell.execute_reply": "2024-10-17T23:13:27.565089Z",
     "shell.execute_reply.started": "2024-10-17T23:13:27.565074Z"
    }
   },
   "outputs": [],
   "source": [
    "data_kiwi = [(item['src'], item['mt']) for item in data]"
   ]
  },
  {
   "cell_type": "code",
   "execution_count": null,
   "id": "73088d8a-85fb-45dc-bc79-5c5b858482ec",
   "metadata": {
    "execution": {
     "iopub.status.busy": "2024-10-17T23:13:27.566162Z",
     "iopub.status.idle": "2024-10-17T23:13:27.566413Z",
     "shell.execute_reply": "2024-10-17T23:13:27.566311Z",
     "shell.execute_reply.started": "2024-10-17T23:13:27.566296Z"
    }
   },
   "outputs": [],
   "source": [
    "kiwi_cpo_score = kiwi(data_kiwi)"
   ]
  },
  {
   "cell_type": "code",
   "execution_count": null,
   "id": "6a95e28a-6e5a-4313-bf93-20d595fdf203",
   "metadata": {},
   "outputs": [],
   "source": []
  }
 ],
 "metadata": {
  "kernelspec": {
   "display_name": "DataSphere Kernel",
   "language": "python",
   "name": "python3"
  },
  "language_info": {
   "codemirror_mode": {
    "name": "ipython",
    "version": 3
   },
   "file_extension": ".py",
   "mimetype": "text/x-python",
   "name": "python",
   "nbconvert_exporter": "python",
   "pygments_lexer": "ipython3",
   "version": "3.10.12"
  }
 },
 "nbformat": 4,
 "nbformat_minor": 5
}
