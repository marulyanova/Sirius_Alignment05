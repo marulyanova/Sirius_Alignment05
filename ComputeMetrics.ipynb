{
 "cells": [
  {
   "cell_type": "code",
   "execution_count": 2,
   "id": "f57c84de-19f3-43a4-bf0f-77ff1adbe3fa",
   "metadata": {
    "execution": {
     "iopub.execute_input": "2024-10-10T12:23:13.678864Z",
     "iopub.status.busy": "2024-10-10T12:23:13.677060Z",
     "iopub.status.idle": "2024-10-10T12:23:13.847135Z",
     "shell.execute_reply": "2024-10-10T12:23:13.845452Z",
     "shell.execute_reply.started": "2024-10-10T12:23:13.678822Z"
    },
    "tags": []
   },
   "outputs": [
    {
     "data": {
      "application/vnd.jupyter.widget-view+json": {
       "model_id": "1d698b4feee64c06a7767c9cbde54461",
       "version_major": 2,
       "version_minor": 0
      },
      "text/plain": [
       "VBox(children=(HTML(value='<center> <img\\nsrc=https://huggingface.co/front/assets/huggingface_logo-noborder.sv…"
      ]
     },
     "metadata": {},
     "output_type": "display_data"
    }
   ],
   "source": [
    "from huggingface_hub import notebook_login\n",
    "notebook_login()"
   ]
  },
  {
   "cell_type": "code",
   "execution_count": 7,
   "id": "3cdd1ea0-2444-4399-b13c-ebb3ac9c8930",
   "metadata": {
    "execution": {
     "iopub.execute_input": "2024-10-10T13:04:56.074753Z",
     "iopub.status.busy": "2024-10-10T13:04:56.073650Z",
     "iopub.status.idle": "2024-10-10T13:05:02.612252Z",
     "shell.execute_reply": "2024-10-10T13:05:02.611227Z",
     "shell.execute_reply.started": "2024-10-10T13:04:56.074714Z"
    },
    "tags": []
   },
   "outputs": [
    {
     "name": "stdout",
     "output_type": "stream",
     "text": [
      "\u001b[31mERROR: pip's dependency resolver does not currently take into account all the packages that are installed. This behaviour is the source of the following dependency conflicts.\n",
      "pandas-gbq 0.17.9 requires pyarrow<10.0dev,>=3.0.0, but you have pyarrow 17.0.0 which is incompatible.\u001b[0m\u001b[31m\n",
      "\u001b[0m\n",
      "\u001b[1m[\u001b[0m\u001b[34;49mnotice\u001b[0m\u001b[1;39;49m]\u001b[0m\u001b[39;49m A new release of pip is available: \u001b[0m\u001b[31;49m23.0.1\u001b[0m\u001b[39;49m -> \u001b[0m\u001b[32;49m24.2\u001b[0m\n",
      "\u001b[1m[\u001b[0m\u001b[34;49mnotice\u001b[0m\u001b[1;39;49m]\u001b[0m\u001b[39;49m To update, run: \u001b[0m\u001b[32;49mpython3 -m pip install --upgrade pip\u001b[0m\n"
     ]
    }
   ],
   "source": [
    "%pip install unbabel-comet>=2.2.0 -q"
   ]
  },
  {
   "cell_type": "code",
   "execution_count": 5,
   "id": "a61378d8-f0f8-47da-9bb1-daa933b43299",
   "metadata": {
    "execution": {
     "iopub.execute_input": "2024-10-10T13:04:37.081192Z",
     "iopub.status.busy": "2024-10-10T13:04:37.080110Z",
     "iopub.status.idle": "2024-10-10T13:04:41.293286Z",
     "shell.execute_reply": "2024-10-10T13:04:41.292282Z",
     "shell.execute_reply.started": "2024-10-10T13:04:37.081144Z"
    },
    "tags": []
   },
   "outputs": [
    {
     "name": "stdout",
     "output_type": "stream",
     "text": [
      "\n",
      "\u001b[1m[\u001b[0m\u001b[34;49mnotice\u001b[0m\u001b[1;39;49m]\u001b[0m\u001b[39;49m A new release of pip is available: \u001b[0m\u001b[31;49m23.0.1\u001b[0m\u001b[39;49m -> \u001b[0m\u001b[32;49m24.2\u001b[0m\n",
      "\u001b[1m[\u001b[0m\u001b[34;49mnotice\u001b[0m\u001b[1;39;49m]\u001b[0m\u001b[39;49m To update, run: \u001b[0m\u001b[32;49mpython3 -m pip install --upgrade pip\u001b[0m\n"
     ]
    }
   ],
   "source": [
    "%pip install --upgrade comet-ml -q"
   ]
  },
  {
   "cell_type": "code",
   "execution_count": null,
   "id": "5f772926-5fcf-4768-bed3-3e74f6966a7a",
   "metadata": {
    "execution": {
     "iopub.status.busy": "2024-10-14T21:32:04.362888979Z",
     "iopub.status.idle": "2024-10-14T21:32:04.366207990Z",
     "shell.execute_reply": "2024-10-14T21:32:04.362853195Z"
    },
    "tags": []
   },
   "outputs": [
    {
     "ename": "AllocationException",
     "evalue": "VM could not be allocated",
     "output_type": "error",
     "traceback": []
    }
   ],
   "source": [
    "from datasets import load_dataset\n",
    "from transformers import AutoModel"
   ]
  },
  {
   "cell_type": "code",
   "execution_count": 3,
   "id": "d721bc10-67fa-49ad-a55b-6a83e749d92e",
   "metadata": {
    "execution": {
     "iopub.execute_input": "2024-10-10T12:23:27.504681Z",
     "iopub.status.busy": "2024-10-10T12:23:27.503301Z",
     "iopub.status.idle": "2024-10-10T12:23:27.564685Z",
     "shell.execute_reply": "2024-10-10T12:23:27.563524Z",
     "shell.execute_reply.started": "2024-10-10T12:23:27.504614Z"
    },
    "tags": []
   },
   "outputs": [
    {
     "data": {
      "text/plain": [
       "device(type='cuda')"
      ]
     },
     "execution_count": 3,
     "metadata": {},
     "output_type": "execute_result"
    }
   ],
   "source": [
    "import torch\n",
    "device = torch.device('cuda' if torch.cuda.is_available() else 'cpu')\n",
    "device"
   ]
  },
  {
   "cell_type": "code",
   "execution_count": 4,
   "id": "4b2191fb-e890-44f4-a7c6-c2166c42749c",
   "metadata": {
    "execution": {
     "iopub.execute_input": "2024-10-10T12:23:30.351584Z",
     "iopub.status.busy": "2024-10-10T12:23:30.350375Z",
     "iopub.status.idle": "2024-10-10T12:28:32.793892Z",
     "shell.execute_reply": "2024-10-10T12:28:32.792593Z",
     "shell.execute_reply.started": "2024-10-10T12:23:30.351544Z"
    },
    "tags": []
   },
   "outputs": [
    {
     "name": "stderr",
     "output_type": "stream",
     "text": [
      "Fetching 5 files: 100%|██████████| 5/5 [03:32<00:00, 42.46s/it]\n",
      "Encoder model frozen.\n",
      "/home/jupyter/.local/lib/python3.10/site-packages/pytorch_lightning/core/saving.py:195: Found keys that are not in the model state dict but in the checkpoint: ['encoder.model.embeddings.position_ids']\n"
     ]
    }
   ],
   "source": [
    "from comet import download_model, load_from_checkpoint\n",
    "\n",
    "model_path = download_model(\"Unbabel/XCOMET-XL\")\n",
    "model = load_from_checkpoint(model_path)\n",
    "model = model.to(device)"
   ]
  },
  {
   "cell_type": "code",
   "execution_count": 8,
   "id": "41d1f21c-da57-4a1f-bd26-c536e0780d23",
   "metadata": {
    "execution": {
     "iopub.execute_input": "2024-10-10T12:39:24.923861Z",
     "iopub.status.busy": "2024-10-10T12:39:24.922745Z",
     "iopub.status.idle": "2024-10-10T12:39:40.109397Z",
     "shell.execute_reply": "2024-10-10T12:39:40.108043Z",
     "shell.execute_reply.started": "2024-10-10T12:39:24.923821Z"
    },
    "tags": []
   },
   "outputs": [
    {
     "name": "stderr",
     "output_type": "stream",
     "text": [
      "GPU available: True (cuda), used: True\n",
      "TPU available: False, using: 0 TPU cores\n",
      "HPU available: False, using: 0 HPUs\n",
      "LOCAL_RANK: 0 - CUDA_VISIBLE_DEVICES: [0]\n",
      "Predicting DataLoader 0: 100%|██████████| 1/1 [00:01<00:00,  1.14s/it]\n"
     ]
    },
    {
     "name": "stdout",
     "output_type": "stream",
     "text": [
      "[0.9696990251541138, 0.9696990251541138]\n",
      "0.9696990251541138\n"
     ]
    }
   ],
   "source": [
    "data = [\n",
    "    {\n",
    "        # Source, текст, который надо перевести, src\n",
    "        \"src\": \"В понедельник ученые из Медицинской школы Стэнфордского университета объявили об изобретении нового диагностического инструмента, который может сортировать клетки по их типу; это маленький чип, который можно напечатать, используя стандартный струйный принтер примерно за 1 цент США.\", \n",
    "        \n",
    "        # Machine Translation\n",
    "        \"mt\": \"On Monday, scientists from Stanford University School of Medicine announced the invention of a new diagnostic tool that can sort cells by their type; it's a small chip that can be printed using a standard inkjet printer for about 1 cent USD.\", \n",
    "        \n",
    "        # Эталонный перевод, en\n",
    "        \"ref\": \"On Monday, scientists from the Stanford University School of Medicine announced the invention of a new diagnostic tool that can sort cells by type: a tiny printable chip that can be manufactured using standard inkjet printers for possibly about one U.S. cent each.\" \n",
    "    },\n",
    "    \n",
    "    {\n",
    "    \n",
    "        # Source, текст, который надо перевести, src\n",
    "        \"src\": \"В понедельник ученые из Медицинской школы Стэнфордского университета объявили об изобретении нового диагностического инструмента, который может сортировать клетки по их типу; это маленький чип, который можно напечатать, используя стандартный струйный принтер примерно за 1 цент США.\", \n",
    "        \n",
    "        # Machine Translation\n",
    "        \"mt\": \"On Monday, scientists from Stanford University School of Medicine announced the invention of a new diagnostic tool that can sort cells by their type; it's a small chip that can be printed using a standard inkjet printer for about 1 cent USD.\", \n",
    "        \n",
    "        # Эталонный перевод, en\n",
    "        \"ref\": \"On Monday, scientists from the Stanford University School of Medicine announced the invention of a new diagnostic tool that can sort cells by type: a tiny printable chip that can be manufactured using standard inkjet printers for possibly about one U.S. cent each.\" \n",
    "    }\n",
    "]\n",
    "\n",
    "model_output = model.predict(data, batch_size=8, gpus=1)\n",
    "# Segment-level scores\n",
    "print (model_output.scores)\n",
    "\n",
    "# System-level score\n",
    "print(model_output.system_score)"
   ]
  },
  {
   "cell_type": "code",
   "execution_count": null,
   "id": "35356b56-6c4d-4067-a282-c6a1351ee27f",
   "metadata": {
    "tags": []
   },
   "outputs": [],
   "source": [
    "model_path_kiwi = download_model(\"Unbabel/wmt23-cometkiwi-da-xxl\")\n",
    "model_kiwi = load_from_checkpoint(model_path_kiwi)\n",
    "model_kiwi = model_kiwi.to(device)"
   ]
  },
  {
   "cell_type": "code",
   "execution_count": null,
   "id": "a2f19190-c7ce-44da-a79a-87b74299441d",
   "metadata": {
    "tags": []
   },
   "outputs": [],
   "source": [
    "from typing import Dict, List\n",
    "import torch\n",
    "# from comet import download_model, load_from_checkpoint\n",
    "\n",
    "# device = torch.device('cuda' if torch.cuda.is_available() else 'cpu')\n",
    "\n",
    "# model_path_xcomet = download_model(\"Unbabel/XCOMET-XL\")\n",
    "# model_xcomet = load_from_checkpoint(model_path_xcomet)\n",
    "# model_xcomet = model_xcomet.to(device)\n",
    "\n",
    "# model_path_kiwi = download_model(\"Unbabel/wmt23-cometkiwi-da-xxl\")\n",
    "# model_kiwi = load_from_checkpoint(model_path_kiwi)\n",
    "# model_kiwi = model_kiwi.to(device)\n",
    "\n",
    "# from transformers import AutoTokenizer, AutoModelForSequenceClassification\n",
    "\n",
    "# tokenizer = AutoTokenizer.from_pretrained(\"cointegrated/roberta-large-cola-krishna2020\")\n",
    "# model_fluency = AutoModelForSequenceClassification.from_pretrained(\"cointegrated/roberta-large-cola-krishna2020\")\n",
    "# model_fluency = model_fluency.to(device)\n",
    "\n",
    "def xcomet(data: List[Dict[str, str]]) -> List[float]:\n",
    "    \n",
    "    '''Format\n",
    "    data = [\n",
    "    {\n",
    "        # Source, текст, который надо перевести, src\n",
    "        \"src\": \"В понедельник\", \n",
    "        \n",
    "        # Machine Translation\n",
    "        \"mt\": \"On Monday\", \n",
    "        \n",
    "        # Эталонный перевод, en\n",
    "        \"ref\": \"On Monday\" \n",
    "    }'''\n",
    "    \n",
    "    \n",
    "    xcomet_metric = model_xcomet.predict(data, batch_size=8, gpus=1)\n",
    "    return xcomet_metric.scores\n",
    "\n",
    "\n",
    "def kiwi(data: List[Dict[str, str]]) -> List[float]:\n",
    "    \n",
    "    '''Format\n",
    "    data = [\n",
    "    {\n",
    "        # source original text, ru\n",
    "        \"src\": \"В понедельник\",\n",
    "        \n",
    "        # machine translation, en\n",
    "        \"mt\": \"On Monday\"\n",
    "    }'''\n",
    "    \n",
    "    \n",
    "    kiwi_metric = model_kiwi.predict(data, batch_size=8, gpus=1)\n",
    "    return kiwi_metric\n",
    "\n",
    "\n",
    "def fluency(data: str) -> float:\n",
    "    return float(torch.softmax(model_fluency(**tokenizer(data, return_tensors=\"pt\").to(device)).logits, dim = -1)[0][0].detach().cpu())"
   ]
  },
  {
   "cell_type": "code",
   "execution_count": null,
   "id": "87cce8dc-4493-4834-bf87-c6f994868fa9",
   "metadata": {},
   "outputs": [],
   "source": [
    "data = [{\n",
    "    \"src\": \"В понедельник ученые из Медицинской школы Стэнфордского университета объявили об изобретении нового диагностического инструмента, который может сортировать клетки по их типу; это маленький чип, который можно напечатать, используя стандартный струйный принтер примерно за 1 цент США.\", \n",
    "    \"mt\": \"On Monday, scientists from Stanford University School of Medicine announced the invention of a new diagnostic tool that can sort cells by their type; it's a small chip that can be printed using a standard inkjet printer for about 1 cent USD.\"}]\n",
    "\n",
    "kiwi(data)"
   ]
  }
 ],
 "metadata": {
  "kernelspec": {
   "display_name": "DataSphere Kernel",
   "language": "python",
   "name": "python3"
  },
  "language_info": {
   "codemirror_mode": {
    "name": "ipython",
    "version": 3
   },
   "file_extension": ".py",
   "mimetype": "text/x-python",
   "name": "python",
   "nbconvert_exporter": "python",
   "pygments_lexer": "ipython3",
   "version": "3.10.12"
  }
 },
 "nbformat": 4,
 "nbformat_minor": 5
}
