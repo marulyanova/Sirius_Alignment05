{
 "cells": [
  {
   "cell_type": "code",
   "execution_count": null,
   "id": "9387ecf7-d073-4d0f-ac48-1137a98d0a39",
   "metadata": {},
   "outputs": [],
   "source": [
    "# !!! Make sure you have SAVED all the changes in repository dirs !!!"
   ]
  },
  {
   "cell_type": "code",
   "execution_count": null,
   "id": "b6ba9b4e-ecf1-4c1e-bb4d-fb87ed4c67cf",
   "metadata": {},
   "outputs": [],
   "source": [
    "!git clone https://github.com/ZHZisZZ/modpo.git /home/jupyter/datasphere/project/modpo"
   ]
  },
  {
   "cell_type": "code",
   "execution_count": null,
   "id": "a36fdb4c-696e-45d3-b7a1-5a952e6a1500",
   "metadata": {},
   "outputs": [],
   "source": [
    "!git clone https://github.com/fe1ixxu/ALMA.git"
   ]
  },
  {
   "cell_type": "code",
   "execution_count": null,
   "id": "93b39b25-e5cf-46f6-9b53-20672b4f8748",
   "metadata": {},
   "outputs": [],
   "source": [
    "!git clone https://huggingface.co/haoranxu/ALMA-7B /home/jupyter/datasphere/project/models"
   ]
  }
 ],
 "metadata": {
  "kernelspec": {
   "display_name": "DataSphere Kernel",
   "language": "python",
   "name": "python3"
  },
  "language_info": {
   "codemirror_mode": {
    "name": "ipython",
    "version": 3
   },
   "file_extension": ".py",
   "mimetype": "text/x-python",
   "name": "python",
   "nbconvert_exporter": "python",
   "pygments_lexer": "ipython3",
   "version": "3.10.12"
  }
 },
 "nbformat": 4,
 "nbformat_minor": 5
}
